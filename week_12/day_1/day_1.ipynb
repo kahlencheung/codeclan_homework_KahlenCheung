{
 "cells": [
  {
   "cell_type": "markdown",
   "id": "8282dec8",
   "metadata": {},
   "source": [
    "### Question 1"
   ]
  },
  {
   "cell_type": "markdown",
   "id": "b4475fea",
   "metadata": {},
   "source": [
    "Create a list with the following data, and assign it to a variable named shopping: 'spam' 'ham' 'eggs' 'ham'\n",
    "Then do the following:\n",
    "Extract the second element of the list.\n",
    "Extract the first to third (inclusive) element of the list.\n",
    "Extract only the last element of the list."
   ]
  },
  {
   "cell_type": "code",
   "execution_count": 5,
   "id": "3c6ea4a0",
   "metadata": {},
   "outputs": [],
   "source": [
    "food = ('spam', 'ham', 'eggs', 'ham')"
   ]
  },
  {
   "cell_type": "code",
   "execution_count": 6,
   "id": "85252ca5",
   "metadata": {},
   "outputs": [
    {
     "data": {
      "text/plain": [
       "'ham'"
      ]
     },
     "execution_count": 6,
     "metadata": {},
     "output_type": "execute_result"
    }
   ],
   "source": [
    "food[1]"
   ]
  },
  {
   "cell_type": "code",
   "execution_count": 10,
   "id": "4db5aba7",
   "metadata": {},
   "outputs": [
    {
     "data": {
      "text/plain": [
       "('spam', 'ham', 'eggs')"
      ]
     },
     "execution_count": 10,
     "metadata": {},
     "output_type": "execute_result"
    }
   ],
   "source": [
    "food[:3]"
   ]
  },
  {
   "cell_type": "code",
   "execution_count": 11,
   "id": "47b53ecb",
   "metadata": {},
   "outputs": [
    {
     "data": {
      "text/plain": [
       "'ham'"
      ]
     },
     "execution_count": 11,
     "metadata": {},
     "output_type": "execute_result"
    }
   ],
   "source": [
    "food[-1]"
   ]
  },
  {
   "cell_type": "markdown",
   "id": "41948298",
   "metadata": {},
   "source": [
    "### Question 2"
   ]
  },
  {
   "cell_type": "markdown",
   "id": "a957cbf2",
   "metadata": {},
   "source": [
    "Set up a list with the following elements:\n",
    "stops = [\"Croy\", \"Cumbernauld\", \"Falkirk High\", \"Linlithgow\", \"Livingston\", \"Haymarket\"]\n",
    "Perform the following:\n",
    "Append Edinburgh Waverley to the end of the list\n",
    "Add \"Queen Street\" to the start of the list\n",
    "Find out what index \"Croy\" is at in the list\n",
    "Add \"Polmont\" at the appropriate point (between \"Falkirk High\" and \"Linlithgow\")\n",
    "Remove \"Haymarket\" from the list of stops\n",
    "Remove all items from stops\n",
    "Hint: Some of these methods will change the original object stops. \n",
    "    If you make any unwanted changes and want to go back to the original object you can re-run the code chunks \n",
    "    where we created the object stops and then appended \"Edinburgh Waverley\". "
   ]
  },
  {
   "cell_type": "code",
   "execution_count": 30,
   "id": "e36deaec",
   "metadata": {},
   "outputs": [],
   "source": [
    "stations = ['Croy', 'Cumbernauld', 'Falkirk High', 'Linlithgow', 'Liviingston', 'Haymarket']"
   ]
  },
  {
   "cell_type": "code",
   "execution_count": 31,
   "id": "16bb7e41",
   "metadata": {},
   "outputs": [],
   "source": [
    "stations.extend(['Waverley'])"
   ]
  },
  {
   "cell_type": "code",
   "execution_count": 32,
   "id": "01375dbf",
   "metadata": {},
   "outputs": [
    {
     "data": {
      "text/plain": [
       "['Croy',\n",
       " 'Cumbernauld',\n",
       " 'Falkirk High',\n",
       " 'Linlithgow',\n",
       " 'Liviingston',\n",
       " 'Haymarket',\n",
       " 'Waverley']"
      ]
     },
     "execution_count": 32,
     "metadata": {},
     "output_type": "execute_result"
    }
   ],
   "source": [
    "stations"
   ]
  },
  {
   "cell_type": "code",
   "execution_count": 33,
   "id": "1598da71",
   "metadata": {},
   "outputs": [],
   "source": [
    "stations.insert(0, 'QueenStreet')"
   ]
  },
  {
   "cell_type": "code",
   "execution_count": 34,
   "id": "8ac484bd",
   "metadata": {},
   "outputs": [
    {
     "data": {
      "text/plain": [
       "['QueenStreet',\n",
       " 'Croy',\n",
       " 'Cumbernauld',\n",
       " 'Falkirk High',\n",
       " 'Linlithgow',\n",
       " 'Liviingston',\n",
       " 'Haymarket',\n",
       " 'Waverley']"
      ]
     },
     "execution_count": 34,
     "metadata": {},
     "output_type": "execute_result"
    }
   ],
   "source": [
    "stations"
   ]
  },
  {
   "cell_type": "code",
   "execution_count": 35,
   "id": "308d0e54",
   "metadata": {},
   "outputs": [
    {
     "data": {
      "text/plain": [
       "1"
      ]
     },
     "execution_count": 35,
     "metadata": {},
     "output_type": "execute_result"
    }
   ],
   "source": [
    "stations.index('Croy')"
   ]
  },
  {
   "cell_type": "code",
   "execution_count": 36,
   "id": "189888b9",
   "metadata": {},
   "outputs": [],
   "source": [
    "stations.remove('Haymarket')"
   ]
  },
  {
   "cell_type": "code",
   "execution_count": 37,
   "id": "e8f8fc21",
   "metadata": {},
   "outputs": [
    {
     "data": {
      "text/plain": [
       "['QueenStreet',\n",
       " 'Croy',\n",
       " 'Cumbernauld',\n",
       " 'Falkirk High',\n",
       " 'Linlithgow',\n",
       " 'Liviingston',\n",
       " 'Waverley']"
      ]
     },
     "execution_count": 37,
     "metadata": {},
     "output_type": "execute_result"
    }
   ],
   "source": [
    "stations"
   ]
  },
  {
   "cell_type": "code",
   "execution_count": 38,
   "id": "191d35ee",
   "metadata": {},
   "outputs": [],
   "source": [
    "stations.clear()"
   ]
  },
  {
   "cell_type": "code",
   "execution_count": 39,
   "id": "49649d7e",
   "metadata": {},
   "outputs": [
    {
     "data": {
      "text/plain": [
       "[]"
      ]
     },
     "execution_count": 39,
     "metadata": {},
     "output_type": "execute_result"
    }
   ],
   "source": [
    "stations"
   ]
  },
  {
   "cell_type": "markdown",
   "id": "412cdae1",
   "metadata": {},
   "source": [
    "### Questions 3"
   ]
  },
  {
   "cell_type": "markdown",
   "id": "18d52905",
   "metadata": {},
   "source": [
    "Set up the following dictionary:\n",
    "person = {\"name\": \"Steph\", \"age\": 31, \"Instructor\" : True}\n",
    "Do the following:\n",
    "Return the keys, values and items from this dictionary\n",
    "Take out only the name from it\n",
    "Add a new key:value pair, which adds the email \"steph@codeclan.com\" to the dictionary\n",
    "Delete the job description from the dictionary (Hint: look up the del function)"
   ]
  },
  {
   "cell_type": "code",
   "execution_count": 41,
   "id": "655f8f1a",
   "metadata": {},
   "outputs": [],
   "source": [
    "person = {'name': 'Steph',\n",
    "         'age': 31,\n",
    "         'Instructor': True}"
   ]
  },
  {
   "cell_type": "code",
   "execution_count": 45,
   "id": "be633568",
   "metadata": {},
   "outputs": [
    {
     "name": "stdout",
     "output_type": "stream",
     "text": [
      "name\n",
      "age\n",
      "Instructor\n"
     ]
    }
   ],
   "source": [
    "for k in person.keys():\n",
    " print(k)"
   ]
  },
  {
   "cell_type": "code",
   "execution_count": 46,
   "id": "7c697974",
   "metadata": {},
   "outputs": [
    {
     "name": "stdout",
     "output_type": "stream",
     "text": [
      "Steph\n",
      "31\n",
      "True\n"
     ]
    }
   ],
   "source": [
    "for v in person.values():\n",
    " print(v)"
   ]
  },
  {
   "cell_type": "code",
   "execution_count": 49,
   "id": "2a95d294",
   "metadata": {},
   "outputs": [
    {
     "name": "stdout",
     "output_type": "stream",
     "text": [
      "('name', 'Steph')\n",
      "('age', 31)\n",
      "('Instructor', True)\n"
     ]
    }
   ],
   "source": [
    "for i in person.items():\n",
    " print(i)"
   ]
  },
  {
   "cell_type": "code",
   "execution_count": 50,
   "id": "8556ee87",
   "metadata": {},
   "outputs": [
    {
     "data": {
      "text/plain": [
       "'Steph'"
      ]
     },
     "execution_count": 50,
     "metadata": {},
     "output_type": "execute_result"
    }
   ],
   "source": [
    "person.pop('name')"
   ]
  },
  {
   "cell_type": "code",
   "execution_count": 51,
   "id": "941751b1",
   "metadata": {},
   "outputs": [],
   "source": [
    "person['email']='steph@codeclan.com'"
   ]
  },
  {
   "cell_type": "code",
   "execution_count": 52,
   "id": "bc6bd4d9",
   "metadata": {},
   "outputs": [
    {
     "data": {
      "text/plain": [
       "{'age': 31, 'Instructor': True, 'email': 'steph@codeclan.com'}"
      ]
     },
     "execution_count": 52,
     "metadata": {},
     "output_type": "execute_result"
    }
   ],
   "source": [
    "person"
   ]
  },
  {
   "cell_type": "code",
   "execution_count": 53,
   "id": "dedfe4d4",
   "metadata": {},
   "outputs": [],
   "source": [
    "del person['Instructor']"
   ]
  },
  {
   "cell_type": "code",
   "execution_count": 54,
   "id": "91568df8",
   "metadata": {},
   "outputs": [
    {
     "data": {
      "text/plain": [
       "{'age': 31, 'email': 'steph@codeclan.com'}"
      ]
     },
     "execution_count": 54,
     "metadata": {},
     "output_type": "execute_result"
    }
   ],
   "source": [
    "person"
   ]
  },
  {
   "cell_type": "markdown",
   "id": "8058fb9e",
   "metadata": {},
   "source": [
    "### Question 4"
   ]
  },
  {
   "cell_type": "markdown",
   "id": "ec615401",
   "metadata": {},
   "source": [
    "For the following list of numbers:\n",
    "numbers = [1, 6, 2, 2, 7, 1, 6, 13, 99, 7]\n",
    "Print out a list of the even integers:\n",
    "Print the difference between the largest and smallest value:\n",
    "Print True if the list contains a 2 next to a 2 somewhere.\n",
    "Print the sum of the numbers, BUT ignore any section of numbers starting with a 6 and extending to the next 7. \n",
    "So [11, 6, 4, 99, 7, 11] would have sum of 22"
   ]
  },
  {
   "cell_type": "code",
   "execution_count": 55,
   "id": "6c0ba80b",
   "metadata": {},
   "outputs": [],
   "source": [
    "numbers = [1, 6, 2, 2, 7, 1, 6, 13, 99, 7]"
   ]
  },
  {
   "cell_type": "code",
   "execution_count": 63,
   "id": "244473b5",
   "metadata": {},
   "outputs": [],
   "source": [
    "even_numbers = []\n",
    "\n",
    "for n in numbers:\n",
    "    if n % 2 == 0:\n",
    "         even_numbers.append(n)\n",
    "\n",
    "#for n in numbers"
   ]
  },
  {
   "cell_type": "code",
   "execution_count": 64,
   "id": "799ce367",
   "metadata": {},
   "outputs": [
    {
     "data": {
      "text/plain": [
       "[6, 2, 2, 6]"
      ]
     },
     "execution_count": 64,
     "metadata": {},
     "output_type": "execute_result"
    }
   ],
   "source": [
    "even_numbers"
   ]
  },
  {
   "cell_type": "code",
   "execution_count": 70,
   "id": "c8f7f006",
   "metadata": {},
   "outputs": [
    {
     "data": {
      "text/plain": [
       "98"
      ]
     },
     "execution_count": 70,
     "metadata": {},
     "output_type": "execute_result"
    }
   ],
   "source": [
    "diff_num = max(numbers) - min(numbers)\n",
    "diff_num"
   ]
  },
  {
   "cell_type": "code",
   "execution_count": 90,
   "id": "fada090b",
   "metadata": {
    "scrolled": true
   },
   "outputs": [
    {
     "name": "stdout",
     "output_type": "stream",
     "text": [
      "True\n",
      "True\n"
     ]
    }
   ],
   "source": [
    "for index in range(len(numbers)):\n",
    "    if numbers[index] == 2 and (numbers[index-1] == 2 or numbers[index+1] == 2):\n",
    "        print(True)"
   ]
  },
  {
   "cell_type": "markdown",
   "id": "b7fe1805",
   "metadata": {},
   "source": [
    "Print the sum of the numbers, BUT ignore any section of numbers starting with a 6 and extending to the next 7. \n",
    "So [11, 6, 4, 99, 7, 11] would have sum of 22"
   ]
  },
  {
   "cell_type": "markdown",
   "id": "4c4fcee0",
   "metadata": {},
   "source": [
    "fail to finish"
   ]
  },
  {
   "cell_type": "markdown",
   "id": "c09f1335",
   "metadata": {},
   "source": [
    "### Question 5"
   ]
  },
  {
   "cell_type": "markdown",
   "id": "d1e5c52e",
   "metadata": {},
   "source": [
    "Write a conditional that takes in two inputs :\n",
    "python_is_fun = True\n",
    "python_is_weird = True\n",
    "We want to print \"Woo Python!\" if either python_is_fun is true OR python_is_weird is true OR \n",
    "both python_is_fun and python_is_weird are true. Otherwise, print \"Python is not for me!\". \n",
    "Make sure you test all the combinations."
   ]
  },
  {
   "cell_type": "code",
   "execution_count": 103,
   "id": "eb3b12c0",
   "metadata": {},
   "outputs": [],
   "source": []
  },
  {
   "cell_type": "code",
   "execution_count": 110,
   "id": "96047692",
   "metadata": {},
   "outputs": [],
   "source": [
    "def sentence(python_is_fun, python_is_weird):\n",
    "    if python_is_fun == True or python_is_weird == True or (python_is_fun == True and python_is_weird == True):\n",
    "        return 'Woo Python!'\n",
    "    else:\n",
    "        return 'Python is not for me!'"
   ]
  },
  {
   "cell_type": "code",
   "execution_count": 113,
   "id": "741de658",
   "metadata": {},
   "outputs": [
    {
     "data": {
      "text/plain": [
       "'Python is not for me!'"
      ]
     },
     "execution_count": 113,
     "metadata": {},
     "output_type": "execute_result"
    }
   ],
   "source": [
    "sentence(True, False)"
   ]
  },
  {
   "cell_type": "markdown",
   "id": "90cc7d66",
   "metadata": {},
   "source": [
    "### Questions 6"
   ]
  },
  {
   "cell_type": "markdown",
   "id": "5e9b3fdc",
   "metadata": {},
   "source": [
    "We have a list of chickens and the farmer would like to go through all the chickens, collecting the eggs and getting the total number of eggs collected.\n",
    "chickens = [\n",
    "  { \"name\": \"Margaret\", \"age\": 2, \"eggs\": 0 },\n",
    "  { \"name\": \"Hetty\", \"age\": 1, \"eggs\": 2 },\n",
    "  { \"name\": \"Henrietta\", \"age\": 3, \"eggs\": 1 },\n",
    "  { \"name\": \"Audrey\", \"age\": 2, \"eggs\": 0 },\n",
    "  { \"name\": \"Mabel\", \"age\": 5, \"eggs\": 1 },\n",
    "]\n",
    "To write this as a loop, we'd do something like this:\n",
    "total_eggs = 0\n",
    "for chicken in chickens:\n",
    "    total_eggs += chicken[\"eggs\"]\n",
    "    chicken[\"eggs\"] = 0 # eggs have been collected\n",
    "print(f\"{total_eggs} eggs collected\")\n",
    "Instead, we want to define a function which passes in a list, so that if we wanted to count eggs of a different list of chickens from another farm, we can use the same function, just pass in a different list.\n",
    "We also want to return the string at the end, instead of using print."
   ]
  },
  {
   "cell_type": "code",
   "execution_count": 114,
   "id": "d090e0b4",
   "metadata": {},
   "outputs": [],
   "source": [
    "chickens = [\n",
    "  { \"name\": \"Margaret\", \"age\": 2, \"eggs\": 0 },\n",
    "  { \"name\": \"Hetty\", \"age\": 1, \"eggs\": 2 },\n",
    "  { \"name\": \"Henrietta\", \"age\": 3, \"eggs\": 1 },\n",
    "  { \"name\": \"Audrey\", \"age\": 2, \"eggs\": 0 },\n",
    "  { \"name\": \"Mabel\", \"age\": 5, \"eggs\": 1 },\n",
    "]"
   ]
  },
  {
   "cell_type": "code",
   "execution_count": 127,
   "id": "8543dad5",
   "metadata": {},
   "outputs": [],
   "source": [
    "def counteggs(alist):\n",
    "    total_eggs = 0\n",
    "    for one_chicken in alist:\n",
    "        total_eggs = total_eggs + one_chicken['eggs']\n",
    "    return total_eggs"
   ]
  },
  {
   "cell_type": "code",
   "execution_count": 128,
   "id": "21f3e026",
   "metadata": {},
   "outputs": [
    {
     "data": {
      "text/plain": [
       "4"
      ]
     },
     "execution_count": 128,
     "metadata": {},
     "output_type": "execute_result"
    }
   ],
   "source": [
    "counteggs(chickens)"
   ]
  },
  {
   "cell_type": "code",
   "execution_count": null,
   "id": "76241e55",
   "metadata": {},
   "outputs": [],
   "source": []
  }
 ],
 "metadata": {
  "kernelspec": {
   "display_name": "Python 3 (ipykernel)",
   "language": "python",
   "name": "python3"
  },
  "language_info": {
   "codemirror_mode": {
    "name": "ipython",
    "version": 3
   },
   "file_extension": ".py",
   "mimetype": "text/x-python",
   "name": "python",
   "nbconvert_exporter": "python",
   "pygments_lexer": "ipython3",
   "version": "3.9.7"
  }
 },
 "nbformat": 4,
 "nbformat_minor": 5
}
